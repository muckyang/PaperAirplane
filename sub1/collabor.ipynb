{
 "metadata": {
  "language_info": {
   "codemirror_mode": {
    "name": "ipython",
    "version": 3
   },
   "file_extension": ".py",
   "mimetype": "text/x-python",
   "name": "python",
   "nbconvert_exporter": "python",
   "pygments_lexer": "ipython3",
   "version": "3.6.8-final"
  },
  "orig_nbformat": 2,
  "kernelspec": {
   "name": "Python 3.6.8 64-bit",
   "display_name": "Python 3.6.8 64-bit",
   "metadata": {
    "interpreter": {
     "hash": "733f5f95a4f4fcb3e55bf7c78330364fa8ebfbc4e79de67ea5fd6f31b458cadf"
    }
   }
  }
 },
 "nbformat": 4,
 "nbformat_minor": 2,
 "cells": [
  {
   "cell_type": "code",
   "execution_count": 4,
   "metadata": {
    "tags": []
   },
   "outputs": [
    {
     "output_type": "stream",
     "name": "stdout",
     "text": "['']\n['', '']\n['', '', '메인 피쉬앤칩스 오리 가슴 살 등 스타 터 보드 파테 등 디저트 초콜렛 퐁당 등 생 과일 칵테일 생맥주 ']\n['', '', '메인 피쉬앤칩스 오리 가슴 살 등 스타 터 보드 파테 등 디저트 초콜렛 퐁당 등 생 과일 칵테일 생맥주 ', '']\n=========================\n['', '', '메인 피쉬앤칩스 오리 가슴 살 등 스타 터 보드 파테 등 디저트 초콜렛 퐁당 등 생 과일 칵테일 생맥주 ', '']\n"
    }
   ],
   "source": [
    "from sklearn.feature_extraction.text import TfidfVectorizer\n",
    "from konlpy.tag import Okt\n",
    "from konlpy.utils import pprint\n",
    "from parse import load_dataframes\n",
    "import pandas as pd\n",
    "from pandas import Series, DataFrame\n",
    "import scipy.sparse\n",
    "import sqlite3\n",
    "\n",
    "mydoclist=[]\n",
    "\n",
    "data = load_dataframes()\n",
    "\n",
    "stores_reviews = data[\"stores\"].head(100000)\n",
    "# indexD = stores_reviews[stores_reviews[\"menu\"]==\"\"].index\n",
    "# droped = stores_reviews.drop(indexD)\n",
    "for i, Each_row in stores_reviews.iterrows():\n",
    "    mydoclist.append(Each_row['menu'])\n",
    "\n",
    "okt = Okt()\n",
    "\n",
    "doc_nouns_list = []\n",
    "count=0\n",
    "for doc in mydoclist:\n",
    "    count+=1\n",
    "    if count==5:\n",
    "        break\n",
    "    nouns = okt.nouns(doc)\n",
    "    doc_nouns = ''\n",
    "\n",
    "    for noun in nouns:\n",
    "        doc_nouns += noun + ' '\n",
    "    doc_nouns_list.append(doc_nouns)\n",
    "\n",
    "tfidf_vectorizer = TfidfVectorizer(min_df=1)\n",
    "tfidf_matrix = tfidf_vectorizer.fit_transform(doc_nouns_list)\n",
    "\n",
    "document_distances = (tfidf_matrix * tfidf_matrix.T)\n",
    "# print(document_distances)\n",
    "# document_distances를 sparse matrix 화 시켜서 이차원 배열에 value가 있는 값으로 전환\n",
    "first = pd.DataFrame.sparse.from_spmatrix(document_distances)\n",
    "# raw_data -> dataframe 컬럼을 만들어 놓음\n",
    "raw_data = {'selected_store': [], 'recommended_store': [], 'similarity' : []}\n",
    "# raw_data 컬럼을 넣음\n",
    "recommendAuto = DataFrame(raw_data)\n",
    "# print(first)\n",
    "\n",
    "# store 전체를 비교할 것이라서 인덱스 0부터 시작하기 때문에 찾을 때에는 1씩 인덱스 올려서 찾으면 됨\n",
    "for index in range(0, first[0].size):\n",
    "    # 다 정제가 되었으면 이제 내림차순으로 각각 store를 행별로 정렬 관련된 상위 6개만 일단 뽑아옴(6개 추천해준다는 뜻임)\n",
    "    second = first[index].sort_values(ascending=False).head(6)\n",
    "    for index2 in range(0, 6):\n",
    "        # if문은 print 찍어 보면 keys()랑 values 부분 이해가 갈거임\n",
    "        if second.values[index2] != 0 and int(second.values[index2]) != 1:\n",
    "            new_row = {'selected_store':index, 'recommended_store':second.keys()[index2], 'similarity':second.values[index2]}\n",
    "            recommendAuto = recommendAuto.append(new_row, ignore_index=True)\n",
    "# sqlite에 넣음\n",
    "con = sqlite3.connect(\"C:/Users/multicampus/Desktop/subpjt3/sub2/backend/db.sqlite3\")\n",
    "# test9는 테이블 이름\n",
    "recommendAuto.to_sql('test9', con)\n",
    "print(\"finish\")"
   ]
  }
 ]
}